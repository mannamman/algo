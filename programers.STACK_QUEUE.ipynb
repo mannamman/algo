{
 "cells": [
  {
   "cell_type": "code",
   "execution_count": null,
   "metadata": {},
   "outputs": [],
   "source": [
    "#STACK_QUEUE : TOWER\n",
    "# 100%\n",
    "heights = [6,9,5,7,4]\n",
    "answer = []\n",
    "for i in range(len(heights)):\n",
    "    cur = heights[i]\n",
    "    index = -1\n",
    "    for j in range(i):\n",
    "        if(cur<heights[j]):\n",
    "            index = j\n",
    "    answer.append(index+1)"
   ]
  },
  {
   "cell_type": "code",
   "execution_count": null,
   "metadata": {},
   "outputs": [],
   "source": [
    "#STACK_QUEUE : CROSS THE BRIGE\n",
    "#100% 통과 실패 42.9의 정확성, 시간초과와 테스트케이스 실패 이유는 모르겠어\n",
    "\n",
    "bridge_length = 100\n",
    "weight = 100\n",
    "truck_weights = [1,2]\n",
    "bridge = [0] * bridge_length\n",
    "answer = 0\n",
    "index = 0\n",
    "def move(bridge):\n",
    "    for i in range(len(bridge)):\n",
    "        if(i==len(bridge)-1):\n",
    "            continue\n",
    "        bridge[i] = bridge[i+1]\n",
    "\n",
    "while(index<len(truck_weights)+1):\n",
    "    print(bridge)\n",
    "    if(index<len(truck_weights)):\n",
    "        if(sum(bridge)+truck_weights[index]<=weight):\n",
    "            move(bridge)\n",
    "            bridge[-1] = truck_weights[index]\n",
    "            answer = answer +1\n",
    "            index = index+1\n",
    "        elif(sum(bridge)+truck_weights[index]-bridge[0]<=weight):\n",
    "            bridge[0] = 0\n",
    "            bridge[-1] = truck_weights[index]\n",
    "            index = index+1\n",
    "            answer = answer +1\n",
    "        else:\n",
    "            move(bridge)\n",
    "            bridge[-1] = 0\n",
    "            answer = answer + 1\n",
    "    else:\n",
    "        if(sum(bridge)==0):\n",
    "            break\n",
    "        move(bridge)\n",
    "        bridge[-1] = 0\n",
    "        answer = answer+1\n",
    "print(answer)\n"
   ]
  },
  {
   "cell_type": "code",
   "execution_count": 15,
   "metadata": {},
   "outputs": [
    {
     "name": "stdout",
     "output_type": "stream",
     "text": [
      "[1, 1, 3, 3]\n"
     ]
    }
   ],
   "source": [
    "#STACK_QUEUE : FUNCTION DEVELOP\n",
    "# 100%\n",
    "\n",
    "import math\n",
    "progresses = [42,16,55,27,19,8,79,91]\n",
    "speeds = [10,13,5,11,20,9,15,3]\n",
    "answer = list()\n",
    "deter = 0\n",
    "index = -1\n",
    "for i in range(len(progresses)):\n",
    "    remain = math.ceil(((100-progresses[i])/speeds[i]))\n",
    "    if(deter<remain):\n",
    "        deter = remain\n",
    "        answer.append(1)\n",
    "        index = index + 1\n",
    "    else:\n",
    "        answer[index] = answer[index] + 1\n",
    "print(answer)\n",
    "        "
   ]
  },
  {
   "cell_type": "code",
   "execution_count": 4,
   "metadata": {},
   "outputs": [
    {
     "name": "stdout",
     "output_type": "stream",
     "text": [
      "arr [1, 3, 2, 2], location 2,flag True, answer 1\n",
      "arr [3, 2, 2, 1], location 1,flag True, answer 1\n",
      "arr [2, 2, 1], location 0,flag False, answer 1\n",
      "1\n"
     ]
    }
   ],
   "source": [
    "#STACK_QUEUE : PRINTER\n",
    "# 100%\n",
    "priorities = [2,1,3,2]\n",
    "location = 2\n",
    "answer = 1\n",
    "def check(priorities):\n",
    "    cur = priorities.pop(0)\n",
    "    for i in priorities:\n",
    "        if(cur<i):\n",
    "            priorities.append(cur)\n",
    "            return True\n",
    "    return False\n",
    "    \n",
    "while(priorities):\n",
    "    flag = check(priorities)\n",
    "    print(\"arr {}, location {},flag {}, answer {}\".format(priorities,location,flag,answer))\n",
    "    if(flag == True):\n",
    "        if(location ==0):\n",
    "            location = len(priorities) -1\n",
    "        else:\n",
    "            location = location -1\n",
    "    else:\n",
    "        if(location ==0):\n",
    "            break\n",
    "        else:\n",
    "            answer = answer +1\n",
    "            location = location-1\n",
    "\n",
    "print(answer)\n",
    "    \n",
    "        "
   ]
  },
  {
   "cell_type": "code",
   "execution_count": 1,
   "metadata": {},
   "outputs": [
    {
     "ename": "NameError",
     "evalue": "name 'o' is not defined",
     "output_type": "error",
     "traceback": [
      "\u001b[1;31m---------------------------------------------------------------------------\u001b[0m",
      "\u001b[1;31mNameError\u001b[0m                                 Traceback (most recent call last)",
      "\u001b[1;32m<ipython-input-1-aa0a18d9cd83>\u001b[0m in \u001b[0;36m<module>\u001b[1;34m\u001b[0m\n\u001b[1;32m----> 1\u001b[1;33m \u001b[0mo\u001b[0m\u001b[1;33m\u001b[0m\u001b[1;33m\u001b[0m\u001b[0m\n\u001b[0m",
      "\u001b[1;31mNameError\u001b[0m: name 'o' is not defined"
     ]
    }
   ],
   "source": []
  }
 ],
 "metadata": {
  "kernelspec": {
   "display_name": "Python 3",
   "language": "python",
   "name": "python3"
  },
  "language_info": {
   "codemirror_mode": {
    "name": "ipython",
    "version": 3
   },
   "file_extension": ".py",
   "mimetype": "text/x-python",
   "name": "python",
   "nbconvert_exporter": "python",
   "pygments_lexer": "ipython3",
   "version": "3.7.6"
  }
 },
 "nbformat": 4,
 "nbformat_minor": 4
}
