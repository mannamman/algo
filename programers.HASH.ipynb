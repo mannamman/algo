{
 "cells": [
  {
   "cell_type": "code",
   "execution_count": null,
   "metadata": {},
   "outputs": [],
   "source": [
    "import collections\n",
    "#HASH\n",
    "#완주하지못한선수\n",
    "participant = [\"marina\", \"josipa\", \"nikola\", \"vinko\", \"filipa\"]\n",
    "completion = [\"josipa\", \"filipa\", \"marina\", \"nikola\"]\n",
    "answer = ''\n",
    "a = list(collections.Counter(participant)-collections.Counter(completion))\n",
    "answer = a[0]\n"
   ]
  },
  {
   "cell_type": "code",
   "execution_count": null,
   "metadata": {},
   "outputs": [],
   "source": [
    "#HASH\n",
    "#전화번호부\n",
    "phone_book = [\"99\",\"456\", \"97674223\", \"1195524421\",\"12345\",\"123456\"]\n",
    "answer = False\n",
    "hash_map = dict()\n",
    "for i in phone_book:\n",
    "    hash_map[i] = 1\n",
    "print(hash_map)\n",
    "for i in phone_book:\n",
    "    temp = ''\n",
    "    for j in i:\n",
    "        temp = temp +j\n",
    "        if(temp in hash_map and temp != i):\n",
    "            answer = False\n",
    "\n",
    "print(answer)"
   ]
  },
  {
   "cell_type": "code",
   "execution_count": null,
   "metadata": {},
   "outputs": [],
   "source": []
  }
 ],
 "metadata": {
  "kernelspec": {
   "display_name": "Python 3",
   "language": "python",
   "name": "python3"
  },
  "language_info": {
   "codemirror_mode": {
    "name": "ipython",
    "version": 3
   },
   "file_extension": ".py",
   "mimetype": "text/x-python",
   "name": "python",
   "nbconvert_exporter": "python",
   "pygments_lexer": "ipython3",
   "version": "3.7.6"
  }
 },
 "nbformat": 4,
 "nbformat_minor": 4
}
